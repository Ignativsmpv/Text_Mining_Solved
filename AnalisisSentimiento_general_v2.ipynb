{
  "nbformat": 4,
  "nbformat_minor": 0,
  "metadata": {
    "colab": {
      "provenance": []
    },
    "kernelspec": {
      "name": "python3",
      "display_name": "Python 3"
    }
  },
  "cells": [
    {
      "cell_type": "code",
      "metadata": {
        "id": "wIK6VtAwvbT7"
      },
      "source": [
        "!pip install emosent-py\n",
        "!pip install emoji_extractor\n",
        "!pip install emoji\n",
        "!pip install vaderSentiment\n",
        "from textblob import TextBlob\n",
        "!wget https://www.clarin.si/repository/xmlui/handle/11356/1048/allzip\n",
        "!unzip allzip\n",
        "import nltk\n",
        "nltk.download('punkt')\n",
        "nltk.download('averaged_perceptron_tagger')\n",
        "nltk.download('opinion_lexicon')\n",
        "nltk.download('subjectivity')\n",
        "nltk.download('vader_lexicon')\n",
        "nltk.download('wordnet')"
      ],
      "execution_count": null,
      "outputs": []
    },
    {
      "cell_type": "code",
      "metadata": {
        "id": "1sHnqbQw2fFA"
      },
      "source": [
        "import pandas as pd"
      ],
      "execution_count": null,
      "outputs": []
    },
    {
      "cell_type": "markdown",
      "metadata": {
        "id": "pZMiGL9whjVJ"
      },
      "source": [
        "Leemos y procesamos el diccionario de \"Emoji Sentiment\""
      ]
    },
    {
      "cell_type": "code",
      "metadata": {
        "id": "UoRjPdDRbX9Z"
      },
      "source": [
        "# Preparar diccionario de emojis\n",
        "def load_emoji_sentiment(path):\n",
        "  # Cargamos el csv de emoji_sentiment\n",
        "  emoji_sent_df = pd.read_csv(path,sep=\",\")\n",
        "  # Calculamos los scores dividiendo el número de emojis negativos y entre el total\n",
        "  emoji_sent_df[\"Negative\"] = emoji_sent_df[\"Negative\"]/emoji_sent_df[\"Occurrences\"]\n",
        "  emoji_sent_df[\"Neutral\"] = emoji_sent_df[\"Neutral\"]/emoji_sent_df[\"Occurrences\"]\n",
        "  emoji_sent_df[\"Positive\"] = emoji_sent_df[\"Positive\"]/emoji_sent_df[\"Occurrences\"]\n",
        "  # Transformamos a dict\n",
        "  emoji_sent_df = emoji_sent_df.set_index('Emoji')\n",
        "  emoji_dict = emoji_sent_df.to_dict(orient=\"index\")\n",
        "  return emoji_dict\n",
        "\n",
        "emoji_dict = load_emoji_sentiment(\"Emoji_Sentiment_Data_v1.0.csv\")"
      ],
      "execution_count": null,
      "outputs": []
    },
    {
      "cell_type": "markdown",
      "metadata": {
        "id": "bXBdB1EUvc9a"
      },
      "source": [
        "# Extracción de sentimiento"
      ]
    },
    {
      "cell_type": "markdown",
      "metadata": {
        "id": "mcH_OdWHvmLX"
      },
      "source": [
        "Hemos comentado que se puede extraer la componente de sentimiento de varias formas:\n",
        "- Con librerías externas que tienen modelos pre-entrenados (textblob)\n",
        "- Con diccionarios de sentimiento (sentiment lexicons)\n",
        "- A traves de los emojis presentes en el texto"
      ]
    },
    {
      "cell_type": "code",
      "metadata": {
        "id": "JID16OPMxhr6"
      },
      "source": [
        "frase_no_emoji = \"I love that my phone can just combine emojis. I don't like the lack of nice apps.\"\n",
        "frase_emoji = \"I love that my phone can just combine emojis 😍😺👏. I don't like the lack of nice apps.\"\n"
      ],
      "execution_count": null,
      "outputs": []
    },
    {
      "cell_type": "markdown",
      "metadata": {
        "id": "iK4a9E8mwHVC"
      },
      "source": [
        "## TextBlob\n",
        "\n",
        "Esta librería es muy sencilla y algo similar a Spacy. A partir de un texto puedes calcular múltiples parámetros entre los que se encuentra el sentimiento. Para ello, sólo hay que importar la clase TextBlob que se aplica a nuestro texto, y después podríamos extraer el sentimiento que tiene: tanto la polaridad como la subjetividad:\n",
        "```\n",
        "testimonial = TextBlob(\"Textblob is amazingly simple to use. What great fun!\")\n",
        "testimonial.sentiment\n",
        "```\n",
        "\n"
      ]
    },
    {
      "cell_type": "code",
      "metadata": {
        "id": "mPEajkwYw6bW",
        "colab": {
          "base_uri": "https://localhost:8080/"
        },
        "outputId": "0b3e2885-4929-41b4-bc05-7fc6362320cc"
      },
      "source": [
        "frase_no_emoji_blob = TextBlob(frase_no_emoji)\n",
        "frase_emoji_blob = TextBlob(frase_emoji)\n",
        "print(frase_no_emoji_blob.sentiment)\n",
        "print(frase_emoji_blob.sentiment)"
      ],
      "execution_count": null,
      "outputs": [
        {
          "output_type": "stream",
          "text": [
            "Sentiment(polarity=0.55, subjectivity=0.8)\n",
            "Sentiment(polarity=0.55, subjectivity=0.8)\n"
          ],
          "name": "stdout"
        }
      ]
    },
    {
      "cell_type": "markdown",
      "metadata": {
        "id": "N647mI2xx_Ja"
      },
      "source": [
        "TextBlob omite el emoticono. Podríamos sustituirlo por una frase utilizando un conversor. PAra eso hay que extraer el emoji y sustituirlo por su descripción:\n"
      ]
    },
    {
      "cell_type": "code",
      "metadata": {
        "id": "JPptY6g4Blbs",
        "colab": {
          "base_uri": "https://localhost:8080/"
        },
        "outputId": "96a88da6-b0ef-48bd-9a66-ab138313919e"
      },
      "source": [
        "from emoji_extractor.extract import Extractor\n",
        "extract = Extractor()\n",
        "emojis = extract.count_emoji(frase_emoji, check_first=False)\n",
        "emojis_list = [key for key, _ in emojis.most_common()]\n",
        "emojis_list\n"
      ],
      "execution_count": null,
      "outputs": [
        {
          "output_type": "execute_result",
          "data": {
            "text/plain": [
              "['😍', '😺', '👏']"
            ]
          },
          "metadata": {
            "tags": []
          },
          "execution_count": 9
        }
      ]
    },
    {
      "cell_type": "markdown",
      "metadata": {
        "id": "yaFaLTFKCU7y"
      },
      "source": [
        "Hemos extraid emojis de un texto, ahora vamos a sustituirlos por su descripción con la librería \"emoji\":"
      ]
    },
    {
      "cell_type": "code",
      "metadata": {
        "colab": {
          "base_uri": "https://localhost:8080/",
          "height": 35
        },
        "id": "T1cykkTXCaPU",
        "outputId": "2f853af0-7b45-46cf-deb8-dab31be21302"
      },
      "source": [
        "import emoji\n",
        "import string\n",
        "emojis_description = emoji.demojize( \" \".join(emojis_list))\n",
        "emojis_desc_final = emojis_description.replace(\":\",\"\")\n",
        "emojis_desc_final = emojis_desc_final.replace(\"_\",\" \")\n",
        "emojis_desc_final\n"
      ],
      "execution_count": null,
      "outputs": [
        {
          "output_type": "execute_result",
          "data": {
            "application/vnd.google.colaboratory.intrinsic+json": {
              "type": "string"
            },
            "text/plain": [
              "'smiling face with heart-eyes grinning cat clapping hands'"
            ]
          },
          "metadata": {
            "tags": []
          },
          "execution_count": 11
        }
      ]
    },
    {
      "cell_type": "markdown",
      "metadata": {
        "id": "BchzKEzxKl2p"
      },
      "source": [
        "Lematizamos (también podemos con Text Blob!)"
      ]
    },
    {
      "cell_type": "code",
      "metadata": {
        "id": "ka8OWf7gKotU",
        "colab": {
          "base_uri": "https://localhost:8080/",
          "height": 35
        },
        "outputId": "a4bb521c-71cc-4f01-d1d2-693bebe625d5"
      },
      "source": [
        "from textblob import Word \n",
        "emojis_blob = emojis_desc_final.split()\n",
        "emojis_lemmas = [Word(x).lemmatize(\"v\") for x in emojis_blob]\n",
        "emojis_lemmas = \" \".join(emojis_lemmas)\n",
        "emojis_lemmas"
      ],
      "execution_count": null,
      "outputs": [
        {
          "output_type": "execute_result",
          "data": {
            "application/vnd.google.colaboratory.intrinsic+json": {
              "type": "string"
            },
            "text/plain": [
              "'smile face with heart-eyes grin cat clap hand'"
            ]
          },
          "metadata": {
            "tags": []
          },
          "execution_count": 12
        }
      ]
    },
    {
      "cell_type": "code",
      "metadata": {
        "id": "ypp69PyCex_l"
      },
      "source": [],
      "execution_count": null,
      "outputs": []
    },
    {
      "cell_type": "code",
      "metadata": {
        "id": "U90NW2cvDI1N",
        "colab": {
          "base_uri": "https://localhost:8080/"
        },
        "outputId": "048c8b04-a40d-4e53-d76b-6edb56666b65"
      },
      "source": [
        "final_emoji_sentence = TextBlob(frase_emoji+ \" \" +emojis_lemmas)\n",
        "print(frase_no_emoji_blob.sentiment)\n",
        "print(final_emoji_sentence.sentiment)"
      ],
      "execution_count": null,
      "outputs": [
        {
          "output_type": "stream",
          "text": [
            "Sentiment(polarity=0.55, subjectivity=0.8)\n",
            "Sentiment(polarity=0.46666666666666673, subjectivity=0.5666666666666668)\n"
          ],
          "name": "stdout"
        }
      ]
    },
    {
      "cell_type": "markdown",
      "metadata": {
        "id": "-LBy1xm-MoDO"
      },
      "source": [
        "El valor de la polaridad es menor, porque aunque el token \"smile tiene una polaridad positiva\" el resto de token introducidos no tienen sentimiento, por lo que el promedio baja."
      ]
    },
    {
      "cell_type": "markdown",
      "metadata": {
        "id": "cPOJn0GJ9-EF"
      },
      "source": [
        "También se pueden utilizar la librería NLTK para algo similar con la función 'nltk.sentiment.util.demo_liu_hu_lexicon(frase_emoji)', que devuelve un valor de \"positivo\",\"negativo\" o \"neutro\"."
      ]
    },
    {
      "cell_type": "code",
      "metadata": {
        "id": "ew0nkkA397MO",
        "colab": {
          "base_uri": "https://localhost:8080/"
        },
        "outputId": "e36658a3-29e7-4497-846a-e51c983af040"
      },
      "source": [
        "from nltk.sentiment.vader import SentiText,SentimentIntensityAnalyzer #https://github.com/cjhutto/vaderSentiment\n",
        "sentsss=SentimentIntensityAnalyzer()\n",
        "sentsss"
      ],
      "execution_count": null,
      "outputs": [
        {
          "output_type": "stream",
          "text": [
            "/usr/local/lib/python3.7/dist-packages/nltk/twitter/__init__.py:20: UserWarning: The twython library has not been installed. Some functionality from the twitter package will not be available.\n",
            "  warnings.warn(\"The twython library has not been installed. \"\n"
          ],
          "name": "stderr"
        },
        {
          "output_type": "execute_result",
          "data": {
            "text/plain": [
              "<nltk.sentiment.vader.SentimentIntensityAnalyzer at 0x7fb57931cad0>"
            ]
          },
          "metadata": {
            "tags": []
          },
          "execution_count": 14
        }
      ]
    },
    {
      "cell_type": "code",
      "metadata": {
        "colab": {
          "base_uri": "https://localhost:8080/"
        },
        "id": "1M0W2ogqfqrN",
        "outputId": "bd501b92-a873-4ba4-f69c-8b9b4250b945"
      },
      "source": [
        "print(sentsss.polarity_scores(frase_emoji))\n",
        "print(sentsss.polarity_scores(frase_no_emoji))"
      ],
      "execution_count": null,
      "outputs": [
        {
          "output_type": "stream",
          "text": [
            "{'neg': 0.091, 'neu': 0.52, 'pos': 0.388, 'compound': 0.7815}\n",
            "{'neg': 0.096, 'neu': 0.498, 'pos': 0.406, 'compound': 0.7815}\n"
          ],
          "name": "stdout"
        }
      ]
    },
    {
      "cell_type": "code",
      "metadata": {
        "id": "t6PYffsY_yNT",
        "colab": {
          "base_uri": "https://localhost:8080/",
          "height": 396
        },
        "outputId": "2d2b2315-a085-420d-85ec-8908bc95ba4a"
      },
      "source": [
        "from nltk.sentiment.util import demo_liu_hu_lexicon\n",
        "demo_liu_hu_lexicon(frase_emoji,plot=True)"
      ],
      "execution_count": null,
      "outputs": [
        {
          "output_type": "stream",
          "text": [
            "Positive\n"
          ],
          "name": "stdout"
        },
        {
          "output_type": "stream",
          "text": [
            "/usr/local/lib/python3.7/dist-packages/nltk/sentiment/util.py:252: MatplotlibDeprecationWarning: Adding an axes using the same arguments as a previous axes currently reuses the earlier instance.  In a future version, a new instance will always be created and returned.  Meanwhile, this warning can be suppressed, and the future behavior ensured, by passing a unique label to each axes instance.\n",
            "  axes = plt.axes()\n",
            "/usr/local/lib/python3.7/dist-packages/matplotlib/backends/backend_agg.py:214: RuntimeWarning: Glyph 128079 missing from current font.\n",
            "  font.set_text(s, 0.0, flags=flags)\n",
            "/usr/local/lib/python3.7/dist-packages/matplotlib/backends/backend_agg.py:183: RuntimeWarning: Glyph 128079 missing from current font.\n",
            "  font.set_text(s, 0, flags=flags)\n"
          ],
          "name": "stderr"
        },
        {
          "output_type": "display_data",
          "data": {
            "image/png": "[encoded data removed]",
            "text/plain": [
              "<Figure size 432x288 with 1 Axes>"
            ]
          },
          "metadata": {
            "tags": [],
            "needs_background": "light"
          }
        }
      ]
    }
  ]
}