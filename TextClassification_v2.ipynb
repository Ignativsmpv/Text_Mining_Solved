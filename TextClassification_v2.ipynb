{
  "nbformat": 4,
  "nbformat_minor": 0,
  "metadata": {
    "colab": {
      "provenance": [],
      "collapsed_sections": [
        "mira_hMw4qpY",
        "c2u2ki304whZ",
        "mcxAkTt6RG2U",
        "tPAAunCYdJSL",
        "5GqIsdmbQAHs"
      ]
    },
    "kernelspec": {
      "name": "python3",
      "display_name": "Python 3"
    },
    "widgets": {
      "application/vnd.jupyter.widget-state+json": {
        "f0235bdbe5b44936b86e1ede80da7af6": {
          "model_module": "@jupyter-widgets/controls",
          "model_name": "HBoxModel",
          "model_module_version": "1.5.0",
          "state": {
            "_dom_classes": [],
            "_model_module": "@jupyter-widgets/controls",
            "_model_module_version": "1.5.0",
            "_model_name": "HBoxModel",
            "_view_count": null,
            "_view_module": "@jupyter-widgets/controls",
            "_view_module_version": "1.5.0",
            "_view_name": "HBoxView",
            "box_style": "",
            "children": [
              "IPY_MODEL_69399a9cc462423e9f1c21894f2f49b1",
              "IPY_MODEL_e80cf634f01a429f8bf8f3ec41ca335f",
              "IPY_MODEL_6ec24dd8c52049cb8dea066fc8836dda"
            ],
            "layout": "IPY_MODEL_4affa00a78934fb281425cdf34894ed7"
          }
        },
        "69399a9cc462423e9f1c21894f2f49b1": {
          "model_module": "@jupyter-widgets/controls",
          "model_name": "HTMLModel",
          "model_module_version": "1.5.0",
          "state": {
            "_dom_classes": [],
            "_model_module": "@jupyter-widgets/controls",
            "_model_module_version": "1.5.0",
            "_model_name": "HTMLModel",
            "_view_count": null,
            "_view_module": "@jupyter-widgets/controls",
            "_view_module_version": "1.5.0",
            "_view_name": "HTMLView",
            "description": "",
            "description_tooltip": null,
            "layout": "IPY_MODEL_7b10e8b0571f40e0a71987363f423e41",
            "placeholder": "​",
            "style": "IPY_MODEL_a64e0d536a184440a94728c2802b5fd3",
            "value": "100%"
          }
        },
        "e80cf634f01a429f8bf8f3ec41ca335f": {
          "model_module": "@jupyter-widgets/controls",
          "model_name": "FloatProgressModel",
          "model_module_version": "1.5.0",
          "state": {
            "_dom_classes": [],
            "_model_module": "@jupyter-widgets/controls",
            "_model_module_version": "1.5.0",
            "_model_name": "FloatProgressModel",
            "_view_count": null,
            "_view_module": "@jupyter-widgets/controls",
            "_view_module_version": "1.5.0",
            "_view_name": "ProgressView",
            "bar_style": "success",
            "description": "",
            "description_tooltip": null,
            "layout": "IPY_MODEL_2d76528df8bb4b7880d94cc3cd09213d",
            "max": 59571,
            "min": 0,
            "orientation": "horizontal",
            "style": "IPY_MODEL_39042aa1245e4f9dba909f2a828cb677",
            "value": 59571
          }
        },
        "6ec24dd8c52049cb8dea066fc8836dda": {
          "model_module": "@jupyter-widgets/controls",
          "model_name": "HTMLModel",
          "model_module_version": "1.5.0",
          "state": {
            "_dom_classes": [],
            "_model_module": "@jupyter-widgets/controls",
            "_model_module_version": "1.5.0",
            "_model_name": "HTMLModel",
            "_view_count": null,
            "_view_module": "@jupyter-widgets/controls",
            "_view_module_version": "1.5.0",
            "_view_name": "HTMLView",
            "description": "",
            "description_tooltip": null,
            "layout": "IPY_MODEL_be9e59028c32464fbe46c2a6ce04d3ca",
            "placeholder": "​",
            "style": "IPY_MODEL_191afbfa4b554c69b93f70ae1f920257",
            "value": " 59571/59571 [00:00&lt;00:00, 394754.73it/s]"
          }
        },
        "4affa00a78934fb281425cdf34894ed7": {
          "model_module": "@jupyter-widgets/base",
          "model_name": "LayoutModel",
          "model_module_version": "1.2.0",
          "state": {
            "_model_module": "@jupyter-widgets/base",
            "_model_module_version": "1.2.0",
            "_model_name": "LayoutModel",
            "_view_count": null,
            "_view_module": "@jupyter-widgets/base",
            "_view_module_version": "1.2.0",
            "_view_name": "LayoutView",
            "align_content": null,
            "align_items": null,
            "align_self": null,
            "border": null,
            "bottom": null,
            "display": null,
            "flex": null,
            "flex_flow": null,
            "grid_area": null,
            "grid_auto_columns": null,
            "grid_auto_flow": null,
            "grid_auto_rows": null,
            "grid_column": null,
            "grid_gap": null,
            "grid_row": null,
            "grid_template_areas": null,
            "grid_template_columns": null,
            "grid_template_rows": null,
            "height": null,
            "justify_content": null,
            "justify_items": null,
            "left": null,
            "margin": null,
            "max_height": null,
            "max_width": null,
            "min_height": null,
            "min_width": null,
            "object_fit": null,
            "object_position": null,
            "order": null,
            "overflow": null,
            "overflow_x": null,
            "overflow_y": null,
            "padding": null,
            "right": null,
            "top": null,
            "visibility": null,
            "width": null
          }
        },
        "7b10e8b0571f40e0a71987363f423e41": {
          "model_module": "@jupyter-widgets/base",
          "model_name": "LayoutModel",
          "model_module_version": "1.2.0",
          "state": {
            "_model_module": "@jupyter-widgets/base",
            "_model_module_version": "1.2.0",
            "_model_name": "LayoutModel",
            "_view_count": null,
            "_view_module": "@jupyter-widgets/base",
            "_view_module_version": "1.2.0",
            "_view_name": "LayoutView",
            "align_content": null,
            "align_items": null,
            "align_self": null,
            "border": null,
            "bottom": null,
            "display": null,
            "flex": null,
            "flex_flow": null,
            "grid_area": null,
            "grid_auto_columns": null,
            "grid_auto_flow": null,
            "grid_auto_rows": null,
            "grid_column": null,
            "grid_gap": null,
            "grid_row": null,
            "grid_template_areas": null,
            "grid_template_columns": null,
            "grid_template_rows": null,
            "height": null,
            "justify_content": null,
            "justify_items": null,
            "left": null,
            "margin": null,
            "max_height": null,
            "max_width": null,
            "min_height": null,
            "min_width": null,
            "object_fit": null,
            "object_position": null,
            "order": null,
            "overflow": null,
            "overflow_x": null,
            "overflow_y": null,
            "padding": null,
            "right": null,
            "top": null,
            "visibility": null,
            "width": null
          }
        },
        "a64e0d536a184440a94728c2802b5fd3": {
          "model_module": "@jupyter-widgets/controls",
          "model_name": "DescriptionStyleModel",
          "model_module_version": "1.5.0",
          "state": {
            "_model_module": "@jupyter-widgets/controls",
            "_model_module_version": "1.5.0",
            "_model_name": "DescriptionStyleModel",
            "_view_count": null,
            "_view_module": "@jupyter-widgets/base",
            "_view_module_version": "1.2.0",
            "_view_name": "StyleView",
            "description_width": ""
          }
        },
        "2d76528df8bb4b7880d94cc3cd09213d": {
          "model_module": "@jupyter-widgets/base",
          "model_name": "LayoutModel",
          "model_module_version": "1.2.0",
          "state": {
            "_model_module": "@jupyter-widgets/base",
            "_model_module_version": "1.2.0",
            "_model_name": "LayoutModel",
            "_view_count": null,
            "_view_module": "@jupyter-widgets/base",
            "_view_module_version": "1.2.0",
            "_view_name": "LayoutView",
            "align_content": null,
            "align_items": null,
            "align_self": null,
            "border": null,
            "bottom": null,
            "display": null,
            "flex": null,
            "flex_flow": null,
            "grid_area": null,
            "grid_auto_columns": null,
            "grid_auto_flow": null,
            "grid_auto_rows": null,
            "grid_column": null,
            "grid_gap": null,
            "grid_row": null,
            "grid_template_areas": null,
            "grid_template_columns": null,
            "grid_template_rows": null,
            "height": null,
            "justify_content": null,
            "justify_items": null,
            "left": null,
            "margin": null,
            "max_height": null,
            "max_width": null,
            "min_height": null,
            "min_width": null,
            "object_fit": null,
            "object_position": null,
            "order": null,
            "overflow": null,
            "overflow_x": null,
            "overflow_y": null,
            "padding": null,
            "right": null,
            "top": null,
            "visibility": null,
            "width": null
          }
        },
        "39042aa1245e4f9dba909f2a828cb677": {
          "model_module": "@jupyter-widgets/controls",
          "model_name": "ProgressStyleModel",
          "model_module_version": "1.5.0",
          "state": {
            "_model_module": "@jupyter-widgets/controls",
            "_model_module_version": "1.5.0",
            "_model_name": "ProgressStyleModel",
            "_view_count": null,
            "_view_module": "@jupyter-widgets/base",
            "_view_module_version": "1.2.0",
            "_view_name": "StyleView",
            "bar_color": null,
            "description_width": ""
          }
        },
        "be9e59028c32464fbe46c2a6ce04d3ca": {
          "model_module": "@jupyter-widgets/base",
          "model_name": "LayoutModel",
          "model_module_version": "1.2.0",
          "state": {
            "_model_module": "@jupyter-widgets/base",
            "_model_module_version": "1.2.0",
            "_model_name": "LayoutModel",
            "_view_count": null,
            "_view_module": "@jupyter-widgets/base",
            "_view_module_version": "1.2.0",
            "_view_name": "LayoutView",
            "align_content": null,
            "align_items": null,
            "align_self": null,
            "border": null,
            "bottom": null,
            "display": null,
            "flex": null,
            "flex_flow": null,
            "grid_area": null,
            "grid_auto_columns": null,
            "grid_auto_flow": null,
            "grid_auto_rows": null,
            "grid_column": null,
            "grid_gap": null,
            "grid_row": null,
            "grid_template_areas": null,
            "grid_template_columns": null,
            "grid_template_rows": null,
            "height": null,
            "justify_content": null,
            "justify_items": null,
            "left": null,
            "margin": null,
            "max_height": null,
            "max_width": null,
            "min_height": null,
            "min_width": null,
            "object_fit": null,
            "object_position": null,
            "order": null,
            "overflow": null,
            "overflow_x": null,
            "overflow_y": null,
            "padding": null,
            "right": null,
            "top": null,
            "visibility": null,
            "width": null
          }
        },
        "191afbfa4b554c69b93f70ae1f920257": {
          "model_module": "@jupyter-widgets/controls",
          "model_name": "DescriptionStyleModel",
          "model_module_version": "1.5.0",
          "state": {
            "_model_module": "@jupyter-widgets/controls",
            "_model_module_version": "1.5.0",
            "_model_name": "DescriptionStyleModel",
            "_view_count": null,
            "_view_module": "@jupyter-widgets/base",
            "_view_module_version": "1.2.0",
            "_view_name": "StyleView",
            "description_width": ""
          }
        }
      }
    }
  },
  "cells": [
    {
      "cell_type": "code",
      "metadata": {
        "id": "LV8gF0hTNj5y"
      },
      "source": [
        "!wget https://github.com/luisgasco/ntic_master_datos/raw/main/datasets/fake_news_2_classification.csv\n",
        "import nltk\n",
        "import sys  \n",
        "!{sys.executable} -m pip install contractions\n",
        "!pip install spacy==3.2.1\n",
        "!python -m spacy download en_core_web_sm\n",
        "nltk.download('punkt')\n",
        "nltk.download('stopwords')"
      ],
      "execution_count": null,
      "outputs": []
    },
    {
      "cell_type": "code",
      "source": [
        "def visualizar_k_rows_df(df, numero_filas, cmap):\n",
        "  return df.head(numero_filas).style.background_gradient(cmap = cmap)"
      ],
      "metadata": {
        "id": "dx-zPVPQCeJV"
      },
      "execution_count": null,
      "outputs": []
    },
    {
      "cell_type": "markdown",
      "metadata": {
        "id": "mira_hMw4qpY"
      },
      "source": [
        "# Imports"
      ]
    },
    {
      "cell_type": "code",
      "metadata": {
        "id": "gbR46qBrXc9_",
        "colab": {
          "base_uri": "https://localhost:8080/"
        },
        "outputId": "e2e52b14-c4a7-485b-8959-f5d31886e2d4"
      },
      "source": [
        "import matplotlib.pyplot as plt\n",
        "import numpy as np\n",
        "import pandas as pd\n",
        "import seaborn as sns\n",
        "import string \n",
        "import re \n",
        "import contractions \n",
        "from tqdm.autonotebook import tqdm\n",
        "tqdm.pandas()\n",
        "\n",
        "from sklearn.feature_extraction.text import TfidfVectorizer\n",
        "from sklearn.linear_model import LogisticRegression\n",
        "from sklearn.model_selection import train_test_split\n",
        "from sklearn.metrics import f1_score, confusion_matrix\n",
        "from sklearn.metrics import classification_report"
      ],
      "execution_count": null,
      "outputs": [
        {
          "output_type": "stream",
          "name": "stderr",
          "text": [
            "<ipython-input-3-ae2486a25b82>:8: TqdmExperimentalWarning: Using `tqdm.autonotebook.tqdm` in notebook mode. Use `tqdm.tqdm` instead to force console mode (e.g. in jupyter console)\n",
            "  from tqdm.autonotebook import tqdm\n"
          ]
        }
      ]
    },
    {
      "cell_type": "markdown",
      "metadata": {
        "id": "c2u2ki304whZ"
      },
      "source": [
        "# Cargar y preparar los datos\n"
      ]
    },
    {
      "cell_type": "markdown",
      "metadata": {
        "id": "BrPma8LSWVJI"
      },
      "source": [
        "En primer lugar, cargaremos la base de datos descarga anteriormente con titulares de noticias falsas y noticias verdaderas"
      ]
    },
    {
      "cell_type": "code",
      "metadata": {
        "id": "l8qGBUg3N5op"
      },
      "source": [
        "dataset = pd.read_csv('fake_news_2_classification.csv', sep = \"\\t\")"
      ],
      "execution_count": null,
      "outputs": []
    },
    {
      "cell_type": "code",
      "metadata": {
        "id": "NtZc2I-KXouT",
        "colab": {
          "base_uri": "https://localhost:8080/",
          "height": 143
        },
        "outputId": "3d12513a-d1af-485d-937e-5d00eff00b4a"
      },
      "source": [
        "visualizar_k_rows_df(dataset.sample(40),3,'RdBu_r')"
      ],
      "execution_count": null,
      "outputs": [
        {
          "output_type": "execute_result",
          "data": {
            "text/plain": [
              "<pandas.io.formats.style.Styler at 0x7fd9b9aed8b0>"
            ],
            "text/html": [
              "<style type=\"text/css\">\n",
              "#T_26ef6_row0_col1, #T_26ef6_row1_col1 {\n",
              "  background-color: #053061;\n",
              "  color: #f1f1f1;\n",
              "}\n",
              "#T_26ef6_row2_col1 {\n",
              "  background-color: #67001f;\n",
              "  color: #f1f1f1;\n",
              "}\n",
              "</style>\n",
              "<table id=\"T_26ef6\" class=\"dataframe\">\n",
              "  <thead>\n",
              "    <tr>\n",
              "      <th class=\"blank level0\" >&nbsp;</th>\n",
              "      <th id=\"T_26ef6_level0_col0\" class=\"col_heading level0 col0\" >title</th>\n",
              "      <th id=\"T_26ef6_level0_col1\" class=\"col_heading level0 col1\" >fake</th>\n",
              "    </tr>\n",
              "  </thead>\n",
              "  <tbody>\n",
              "    <tr>\n",
              "      <th id=\"T_26ef6_level0_row0\" class=\"row_heading level0 row0\" >27682</th>\n",
              "      <td id=\"T_26ef6_row0_col0\" class=\"data row0 col0\" >knights aims to keep talented juniors</td>\n",
              "      <td id=\"T_26ef6_row0_col1\" class=\"data row0 col1\" >0</td>\n",
              "    </tr>\n",
              "    <tr>\n",
              "      <th id=\"T_26ef6_level0_row1\" class=\"row_heading level0 row1\" >26167</th>\n",
              "      <td id=\"T_26ef6_row1_col0\" class=\"data row1 col0\" >bennett predicts origin dampener</td>\n",
              "      <td id=\"T_26ef6_row1_col1\" class=\"data row1 col1\" >0</td>\n",
              "    </tr>\n",
              "    <tr>\n",
              "      <th id=\"T_26ef6_level0_row2\" class=\"row_heading level0 row2\" >41125</th>\n",
              "      <td id=\"T_26ef6_row2_col0\" class=\"data row2 col0\" >DOUBLE AMPUTEE VET Blasts Obama’s War Strategy…Saw Him As “Expendable”…Explains Why He Wishes He Was Fighting Under President Trump [VIDEO]</td>\n",
              "      <td id=\"T_26ef6_row2_col1\" class=\"data row2 col1\" >1</td>\n",
              "    </tr>\n",
              "  </tbody>\n",
              "</table>\n"
            ]
          },
          "metadata": {},
          "execution_count": 5
        }
      ]
    },
    {
      "cell_type": "markdown",
      "metadata": {
        "id": "mcxAkTt6RG2U"
      },
      "source": [
        "# Análisis exploratorio de los datos (EDA)\n",
        "\n",
        "\n"
      ]
    },
    {
      "cell_type": "markdown",
      "metadata": {
        "id": "O5ZZJJilSUbe"
      },
      "source": [
        "En este apartado pretendemos realizar un análisis de los datos previo a la normalización de los mismos. Este análisis nos va a permitir extraer información relevante del dataset, así como posibles inconvenientes que serán solucionados llegado el caso.\n"
      ]
    },
    {
      "cell_type": "markdown",
      "metadata": {
        "id": "BGFFWS9Q5uPg"
      },
      "source": [
        "* **Número de documentos y columnas:**\n",
        "\n",
        "Comenzamos mostrando el número de documentos, o lo que es lo mismo, el número de filas del data frame:"
      ]
    },
    {
      "cell_type": "code",
      "metadata": {
        "colab": {
          "base_uri": "https://localhost:8080/"
        },
        "id": "8cMr_JLnXyLv",
        "outputId": "55764128-6ceb-4187-94d1-5ca0ea6a772b"
      },
      "source": [
        "print(\"Tenemos un conjunto de {} documentos\".format(len(dataset)))\n",
        "print(\"El dataframe tiene {} columnas\".format(dataset.shape[1]))"
      ],
      "execution_count": null,
      "outputs": [
        {
          "output_type": "stream",
          "name": "stdout",
          "text": [
            "Tenemos un conjunto de 59601 documentos\n",
            "El dataframe tiene 2 columnas\n"
          ]
        }
      ]
    },
    {
      "cell_type": "markdown",
      "source": [
        "* **Número de documentos duplicados:**"
      ],
      "metadata": {
        "id": "TOwki0MDKR9c"
      }
    },
    {
      "cell_type": "markdown",
      "metadata": {
        "id": "yUMrCNQLWnER"
      },
      "source": [
        "Despues, comprobamos y eliminamos las filas con algún valor vacío (NA) y quitaremos los duplicados."
      ]
    },
    {
      "cell_type": "code",
      "metadata": {
        "colab": {
          "base_uri": "https://localhost:8080/"
        },
        "id": "RlTJyjagXNIK",
        "outputId": "abc38121-cb2b-4a0f-9230-dfb2a3d483d1"
      },
      "source": [
        "print(\"Existen {} noticias duplicadas\".format(np.sum(dataset.duplicated(subset=[\"title\"]))))\n",
        "# Quitaremos esos duplicados\n",
        "dataset = dataset.drop_duplicates()\n",
        "print(\"Despues de quitar duplicados tenemos un conjunto de {} noticias\".format(dataset.shape[0]))"
      ],
      "execution_count": null,
      "outputs": [
        {
          "output_type": "stream",
          "name": "stdout",
          "text": [
            "Existen 30 noticias duplicadas\n",
            "Despues de quitar duplicados tenemos un conjunto de 59571 noticias\n"
          ]
        }
      ]
    },
    {
      "cell_type": "markdown",
      "metadata": {
        "id": "GR2fqxu6WrGo"
      },
      "source": [
        "Comprobaramos que no hayan quedado Nulls en ningunas de las dos columnas del dataset"
      ]
    },
    {
      "cell_type": "code",
      "metadata": {
        "colab": {
          "base_uri": "https://localhost:8080/"
        },
        "id": "aEvobTAsXmMy",
        "outputId": "f0aa0b67-8403-40ae-fb01-b69c186ae438"
      },
      "source": [
        "print(\"Hay {} valores vacíos en las noticias y {} valores vacíos en las etiquetas en los datos\".format(np.sum(dataset.isnull())[0],\n",
        "                                                                                                        np.sum(dataset.isnull())[1]))"
      ],
      "execution_count": null,
      "outputs": [
        {
          "output_type": "stream",
          "name": "stdout",
          "text": [
            "Hay 0 valores vacíos en las noticias y 0 valores vacíos en las etiquetas en los datos\n"
          ]
        }
      ]
    },
    {
      "cell_type": "markdown",
      "source": [
        "* **Número de documentos por cada clase:**\n",
        "\n",
        "Contamos el número de elementos de cada clase, esto se hace muy fácil con un groupby de la columna 'positive' y un conteo posterior. También se puede hacer con un value_counts sobre la serie de la etiqueta."
      ],
      "metadata": {
        "id": "h24AMcCZKnbw"
      }
    },
    {
      "cell_type": "code",
      "metadata": {
        "colab": {
          "base_uri": "https://localhost:8080/",
          "height": 198
        },
        "id": "qqNGRDTwXWeq",
        "outputId": "ef509125-b9bd-4bd6-facf-4b35c927cf76"
      },
      "source": [
        "print(dataset[\"fake\"].value_counts())\n",
        "\n",
        "# Número de elementos de cada clase:\n",
        "dataset.groupby(['fake']).count()\n"
      ],
      "execution_count": null,
      "outputs": [
        {
          "output_type": "stream",
          "name": "stdout",
          "text": [
            "0    30000\n",
            "1    29571\n",
            "Name: fake, dtype: int64\n"
          ]
        },
        {
          "output_type": "execute_result",
          "data": {
            "text/plain": [
              "      title\n",
              "fake       \n",
              "0     30000\n",
              "1     29571"
            ],
            "text/html": [
              "\n",
              "  <div id=\"df-c8f70247-4d59-4b20-bcb5-b3a48794ea20\">\n",
              "    <div class=\"colab-df-container\">\n",
              "      <div>\n",
              "<style scoped>\n",
              "    .dataframe tbody tr th:only-of-type {\n",
              "        vertical-align: middle;\n",
              "    }\n",
              "\n",
              "    .dataframe tbody tr th {\n",
              "        vertical-align: top;\n",
              "    }\n",
              "\n",
              "    .dataframe thead th {\n",
              "        text-align: right;\n",
              "    }\n",
              "</style>\n",
              "<table border=\"1\" class=\"dataframe\">\n",
              "  <thead>\n",
              "    <tr style=\"text-align: right;\">\n",
              "      <th></th>\n",
              "      <th>title</th>\n",
              "    </tr>\n",
              "    <tr>\n",
              "      <th>fake</th>\n",
              "      <th></th>\n",
              "    </tr>\n",
              "  </thead>\n",
              "  <tbody>\n",
              "    <tr>\n",
              "      <th>0</th>\n",
              "      <td>30000</td>\n",
              "    </tr>\n",
              "    <tr>\n",
              "      <th>1</th>\n",
              "      <td>29571</td>\n",
              "    </tr>\n",
              "  </tbody>\n",
              "</table>\n",
              "</div>\n",
              "      <button class=\"colab-df-convert\" onclick=\"convertToInteractive('df-c8f70247-4d59-4b20-bcb5-b3a48794ea20')\"\n",
              "              title=\"Convert this dataframe to an interactive table.\"\n",
              "              style=\"display:none;\">\n",
              "        \n",
              "  <svg xmlns=\"http://www.w3.org/2000/svg\" height=\"24px\"viewBox=\"0 0 24 24\"\n",
              "       width=\"24px\">\n",
              "    <path d=\"M0 0h24v24H0V0z\" fill=\"none\"/>\n",
              "    <path d=\"M18.56 5.44l.94 2.06.94-2.06 2.06-.94-2.06-.94-.94-2.06-.94 2.06-2.06.94zm-11 1L8.5 8.5l.94-2.06 2.06-.94-2.06-.94L8.5 2.5l-.94 2.06-2.06.94zm10 10l.94 2.06.94-2.06 2.06-.94-2.06-.94-.94-2.06-.94 2.06-2.06.94z\"/><path d=\"M17.41 7.96l-1.37-1.37c-.4-.4-.92-.59-1.43-.59-.52 0-1.04.2-1.43.59L10.3 9.45l-7.72 7.72c-.78.78-.78 2.05 0 2.83L4 21.41c.39.39.9.59 1.41.59.51 0 1.02-.2 1.41-.59l7.78-7.78 2.81-2.81c.8-.78.8-2.07 0-2.86zM5.41 20L4 18.59l7.72-7.72 1.47 1.35L5.41 20z\"/>\n",
              "  </svg>\n",
              "      </button>\n",
              "      \n",
              "  <style>\n",
              "    .colab-df-container {\n",
              "      display:flex;\n",
              "      flex-wrap:wrap;\n",
              "      gap: 12px;\n",
              "    }\n",
              "\n",
              "    .colab-df-convert {\n",
              "      background-color: #E8F0FE;\n",
              "      border: none;\n",
              "      border-radius: 50%;\n",
              "      cursor: pointer;\n",
              "      display: none;\n",
              "      fill: #1967D2;\n",
              "      height: 32px;\n",
              "      padding: 0 0 0 0;\n",
              "      width: 32px;\n",
              "    }\n",
              "\n",
              "    .colab-df-convert:hover {\n",
              "      background-color: #E2EBFA;\n",
              "      box-shadow: 0px 1px 2px rgba(60, 64, 67, 0.3), 0px 1px 3px 1px rgba(60, 64, 67, 0.15);\n",
              "      fill: #174EA6;\n",
              "    }\n",
              "\n",
              "    [theme=dark] .colab-df-convert {\n",
              "      background-color: #3B4455;\n",
              "      fill: #D2E3FC;\n",
              "    }\n",
              "\n",
              "    [theme=dark] .colab-df-convert:hover {\n",
              "      background-color: #434B5C;\n",
              "      box-shadow: 0px 1px 3px 1px rgba(0, 0, 0, 0.15);\n",
              "      filter: drop-shadow(0px 1px 2px rgba(0, 0, 0, 0.3));\n",
              "      fill: #FFFFFF;\n",
              "    }\n",
              "  </style>\n",
              "\n",
              "      <script>\n",
              "        const buttonEl =\n",
              "          document.querySelector('#df-c8f70247-4d59-4b20-bcb5-b3a48794ea20 button.colab-df-convert');\n",
              "        buttonEl.style.display =\n",
              "          google.colab.kernel.accessAllowed ? 'block' : 'none';\n",
              "\n",
              "        async function convertToInteractive(key) {\n",
              "          const element = document.querySelector('#df-c8f70247-4d59-4b20-bcb5-b3a48794ea20');\n",
              "          const dataTable =\n",
              "            await google.colab.kernel.invokeFunction('convertToInteractive',\n",
              "                                                     [key], {});\n",
              "          if (!dataTable) return;\n",
              "\n",
              "          const docLinkHtml = 'Like what you see? Visit the ' +\n",
              "            '<a target=\"_blank\" href=https://colab.research.google.com/notebooks/data_table.ipynb>data table notebook</a>'\n",
              "            + ' to learn more about interactive tables.';\n",
              "          element.innerHTML = '';\n",
              "          dataTable['output_type'] = 'display_data';\n",
              "          await google.colab.output.renderOutput(dataTable, element);\n",
              "          const docLink = document.createElement('div');\n",
              "          docLink.innerHTML = docLinkHtml;\n",
              "          element.appendChild(docLink);\n",
              "        }\n",
              "      </script>\n",
              "    </div>\n",
              "  </div>\n",
              "  "
            ]
          },
          "metadata": {},
          "execution_count": 9
        }
      ]
    },
    {
      "cell_type": "markdown",
      "metadata": {
        "id": "OvLsb-_gaFyH"
      },
      "source": [
        "¡¡Tenemos un dataset balanceado!! Esto nos evitará problemas en el entrenamiento de los modelos😀. \n",
        "\n",
        "Disponemos 30000 noticias verdaderas (valor 0) y 29571 noticias falsas (valor 1).\n",
        "\n",
        "Vamos a dibujar un histograma con las clases así practicamos:"
      ]
    },
    {
      "cell_type": "code",
      "metadata": {
        "colab": {
          "base_uri": "https://localhost:8080/",
          "height": 278
        },
        "id": "imbF43WHaFOz",
        "outputId": "f3a84b00-91be-4e22-e5fa-900f3147eaba"
      },
      "source": [
        "ax, fig = plt.subplots()\n",
        "etiquetas = dataset.fake.value_counts()\n",
        "etiquetas.plot(kind= 'bar', color= [\"blue\", \"orange\"])\n",
        "plt.title('Bar chart')\n",
        "plt.show()"
      ],
      "execution_count": null,
      "outputs": [
        {
          "output_type": "display_data",
          "data": {
            "text/plain": [
              "<Figure size 432x288 with 1 Axes>"
            ],
            "image/png": "[encoded data removed]"
          },
          "metadata": {
            "needs_background": "light"
          }
        }
      ]
    },
    {
      "cell_type": "markdown",
      "metadata": {
        "id": "Ors90Yon5aJf"
      },
      "source": [
        "* **Distribución de la longitud de los tweet en caracteres:**\n",
        "\n",
        "Para seguir con el análisis exploratorio, vamos a hacer un cálculo típico: la longitud de cada uno de los textos de los documentos para despues dibujar su histograma. \n",
        "\n",
        "Comenzamos creando las columnas que van a almacenar las longitud en caracteres y en tokens de los documentos del corpus:"
      ]
    },
    {
      "cell_type": "code",
      "metadata": {
        "id": "fVjO14rKXWXL"
      },
      "source": [
        "dataset[\"char_len\"] = dataset[\"title\"].apply(lambda x: len(x))"
      ],
      "execution_count": null,
      "outputs": []
    },
    {
      "cell_type": "code",
      "source": [
        "# Importamos las librerías matplotlib y seaborn:\n",
        "import matplotlib.pyplot as plt\n",
        "import seaborn as sns\n",
        "\n",
        "fig = plt.figure(figsize=(14,12))\n",
        "sns.set_style(\"darkgrid\")\n",
        "# añadimos series para cada categoría (eligiendo la seríe de char_len\n",
        "plt1 = sns.distplot(dataset[dataset[\"fake\"]==0].char_len, hist=True, label=\"real\")\n",
        "plt2 = sns.distplot(dataset[dataset[\"fake\"]==1].char_len, hist=True, label=\"fake\")\n",
        "plt.legend(labels=['real',\"\",'fake',\"\"], loc = 5)\n",
        "\n",
        "\n",
        "# Definimos el título de los ejes:\n",
        "plt.xlabel('Caracteres', fontsize=16)\n",
        "plt.ylabel('Densidad', fontsize=16)\n",
        "\n",
        "# Finalmente mostramos el gráfico:\n",
        "plt.show()\n"
      ],
      "metadata": {
        "colab": {
          "base_uri": "https://localhost:8080/",
          "height": 812
        },
        "id": "9Qh8tMrcLSmY",
        "outputId": "015a1722-be0c-4c52-ca21-313cb2a1ef9f"
      },
      "execution_count": null,
      "outputs": [
        {
          "output_type": "stream",
          "name": "stderr",
          "text": [
            "/usr/local/lib/python3.9/dist-packages/seaborn/distributions.py:2619: FutureWarning: `distplot` is a deprecated function and will be removed in a future version. Please adapt your code to use either `displot` (a figure-level function with similar flexibility) or `histplot` (an axes-level function for histograms).\n",
            "  warnings.warn(msg, FutureWarning)\n",
            "/usr/local/lib/python3.9/dist-packages/seaborn/distributions.py:2619: FutureWarning: `distplot` is a deprecated function and will be removed in a future version. Please adapt your code to use either `displot` (a figure-level function with similar flexibility) or `histplot` (an axes-level function for histograms).\n",
            "  warnings.warn(msg, FutureWarning)\n"
          ]
        },
        {
          "output_type": "display_data",
          "data": {
            "text/plain": [
              "<Figure size 1008x864 with 1 Axes>"
            ],
            "image/png": "[encoded data removed]"
          },
          "metadata": {}
        }
      ]
    },
    {
      "cell_type": "markdown",
      "metadata": {
        "id": "codyXatXcPli"
      },
      "source": [
        "Una noticia interesante! Vemos que las distribuciones de longitud de los titulares cambian en función de la veracidad de la noticia. La longitud de las noticias falsas suelen tener una logitud mayor. \n",
        "Esto es un dato muy interesante, viendo la separación de estas variables podríamos entrenar un \"clasificador\" que funcionara bastante bien con la regla `if len(noticia)>50 \"fake\" else \"verdad\"`\n"
      ]
    },
    {
      "cell_type": "markdown",
      "metadata": {
        "id": "tPAAunCYdJSL"
      },
      "source": [
        "# Transformación\n",
        "Como hemos visto, está dividido en dos pasos Normalización o Preprocesado y Transformación\n",
        "\n",
        "## Normalización\n",
        "Vamos a proceder a normalizar los datos. Para ello vamos a generar pequeñas funciones que nos permitan:\n",
        "- Eliminar espacios extra.\n",
        "- Transformar a minúsculas.\n",
        "- Tokenizar.\n",
        "- Reemplazar contractions.\n",
        "- Lematizar tokens.\n",
        "- Eliminar stopwords.\n",
        "- Eliminar sígnos de puntuación."
      ]
    },
    {
      "cell_type": "code",
      "metadata": {
        "id": "kJ6YL7aMeCTA",
        "colab": {
          "base_uri": "https://localhost:8080/"
        },
        "outputId": "6df9ebff-260f-4c06-8b36-82d36877d21c"
      },
      "source": [
        "# Eliminar espacios\n",
        "def eliminar_espacios(text): \n",
        "    return  \" \".join(text.split()) \n",
        "\n",
        "# To lower\n",
        "def texto_to_lower(text):\n",
        "  return text.lower()\n",
        "\n",
        "# Tokenizador\n",
        "from nltk import word_tokenize\n",
        "def tokenization(text):\n",
        "  tokens = nltk.word_tokenize(text)\n",
        "  return tokens\n",
        "\n",
        "# Reemplazar contractions usando la librería \"contractions\" https://github.com/kootenpv/contractions\n",
        "def replace_contraction(text):\n",
        "    expanded_words = []\n",
        "    for t in text.split():\n",
        "        expanded_words.append(contractions.fix(t))\n",
        "    expanded_text = ' '.join(expanded_words) \n",
        "    return expanded_text\n",
        "\n",
        "# Quitar stop words\n",
        "from nltk.corpus import stopwords\n",
        "def quitar_stopwords(tokens):\n",
        "    stop_words = set(stopwords.words('english')) \n",
        "    filtered_sentence = [w for w in tokens if not w in stop_words]\n",
        "    return filtered_sentence\n",
        "\n",
        "\n",
        "# Eliminar signos de puntuación (nos quedamos sólo lo alfanumérico en este caso)\n",
        "def quitar_puntuacion(tokens):\n",
        "    words=[word for word in tokens if word.isalnum()]\n",
        "    return words\n",
        "\n",
        "\n",
        "# Lemmatization\n",
        "import spacy\n",
        "nlp = spacy.load('en_core_web_sm', disable=['parser', 'ner'])\n",
        "def lematizar(tokens):\n",
        "    sentence = \" \".join(tokens)\n",
        "    mytokens = nlp(sentence)\n",
        "    # Lematizamos los tokens y los convertimos  a minusculas\n",
        "    mytokens = [ word.lemma_ if word.lemma_ != \"-PRON-\" else word.lower_ for word in mytokens ]\n",
        "    # Extraemos el text en una string\n",
        "    return \" \".join(mytokens)\n",
        "\n",
        "\n",
        "import string\n",
        "from nltk.stem import PorterStemmer\n",
        "stemmer = PorterStemmer()\n",
        "def stem(tokens):\n",
        "    tokens = [ stemmer.stem(token) for token in tokens]\n",
        "    return tokens\n"
      ],
      "execution_count": null,
      "outputs": [
        {
          "output_type": "stream",
          "name": "stderr",
          "text": [
            "/usr/local/lib/python3.9/dist-packages/torch/cuda/__init__.py:497: UserWarning: Can't initialize NVML\n",
            "  warnings.warn(\"Can't initialize NVML\")\n"
          ]
        }
      ]
    },
    {
      "cell_type": "markdown",
      "metadata": {
        "id": "NEc8NbJiHgpI"
      },
      "source": [
        "Posteriormente podríamos crear una función que preprocesara los textos según nuestras necesidades:\n"
      ]
    },
    {
      "cell_type": "code",
      "metadata": {
        "id": "GDuqPybN66kL"
      },
      "source": [
        "def preprocesado_fakenews(sentence, remove_spaces =True)\n",
        "  if (remove_spaces):\n",
        "    sentence = eliminar_espacios(x)\n",
        "  sentence = texto_to_lower(sentence)\n",
        " ......"
      ],
      "execution_count": null,
      "outputs": []
    },
    {
      "cell_type": "markdown",
      "metadata": {
        "id": "qbbM69WbL9-a"
      },
      "source": [
        "Podríamos generar una función de transformación que aglutinara todas las anteriores y pasársela al siguiente paso (TfidfVectorizer) en el campo analyzer. Para ver el proceso de cada uno de los pasos lo haremos paso a paso:\n",
        "\n"
      ]
    },
    {
      "cell_type": "code",
      "metadata": {
        "id": "CVsYXrUaKOH1"
      },
      "source": [
        "# Espacios\n",
        "dataset[\"normaliza\"] = dataset[\"title\"].progress_apply(lambda x: eliminar_espacios(x))\n",
        "# To Lower\n",
        "dataset[\"normaliza\"] = dataset[\"normaliza\"].progress_apply(lambda x: texto_to_lower(x))\n",
        "# Contraciones\n",
        "dataset[\"normaliza\"] = dataset[\"normaliza\"].progress_apply(lambda x: replace_contraction(x))\n",
        "# Tokenizar\n",
        "dataset[\"normaliza\"] = dataset[\"normaliza\"].progress_apply(lambda x: tokenization(x))\n",
        "# Quitar Stopwords\n",
        "dataset[\"normaliza\"] = dataset[\"normaliza\"].progress_apply(lambda x: quitar_stopwords(x))\n",
        "# Quitar puntuación\n",
        "dataset[\"normaliza\"] = dataset[\"normaliza\"].progress_apply(lambda x: quitar_puntuacion(x))\n",
        "# Stemming\n",
        "dataset[\"normaliza\"] = dataset[\"normaliza\"].progress_apply(lambda x: stem(x))\n",
        "# Mirar todo lo que tarda con lematización (mediante spacy)\n",
        "#dataset[\"normaliza\"] = dataset[\"normaliza\"].progress_apply(lambda x: lematizar(x))\n",
        "\n",
        "dataset[\"normaliza\"]\n",
        "\n"
      ],
      "execution_count": null,
      "outputs": []
    },
    {
      "cell_type": "markdown",
      "metadata": {
        "id": "KdqPMl4Dd1HV"
      },
      "source": [
        "Como explicamos ayer, se ha hecho el preprocesado, y antes de introducirlo a TFIDF vamos a generar una frase de gada una de las listas de tokens, para utilizar el propio tokenizador de TFIDF."
      ]
    },
    {
      "cell_type": "code",
      "metadata": {
        "colab": {
          "base_uri": "https://localhost:8080/",
          "height": 49,
          "referenced_widgets": [
            "f0235bdbe5b44936b86e1ede80da7af6",
            "69399a9cc462423e9f1c21894f2f49b1",
            "e80cf634f01a429f8bf8f3ec41ca335f",
            "6ec24dd8c52049cb8dea066fc8836dda",
            "4affa00a78934fb281425cdf34894ed7",
            "7b10e8b0571f40e0a71987363f423e41",
            "a64e0d536a184440a94728c2802b5fd3",
            "2d76528df8bb4b7880d94cc3cd09213d",
            "39042aa1245e4f9dba909f2a828cb677",
            "be9e59028c32464fbe46c2a6ce04d3ca",
            "191afbfa4b554c69b93f70ae1f920257"
          ]
        },
        "id": "mY6WpS-yOx1L",
        "outputId": "4d7cc332-16ad-4604-9880-08155413089b"
      },
      "source": [
        "dataset[\"clean_text\"] = dataset[\"normaliza\"].progress_apply(lambda x: \" \".join(x))"
      ],
      "execution_count": null,
      "outputs": [
        {
          "output_type": "display_data",
          "data": {
            "text/plain": [
              "  0%|          | 0/59571 [00:00<?, ?it/s]"
            ],
            "application/vnd.jupyter.widget-view+json": {
              "version_major": 2,
              "version_minor": 0,
              "model_id": "f0235bdbe5b44936b86e1ede80da7af6"
            }
          },
          "metadata": {}
        }
      ]
    },
    {
      "cell_type": "code",
      "metadata": {
        "colab": {
          "base_uri": "https://localhost:8080/",
          "height": 812
        },
        "id": "Aps3MAKs3nbn",
        "outputId": "57dda568-c036-41bb-fbf8-5922ab4b0c70"
      },
      "source": [
        "dataset[\"token_len\"] = dataset[\"normaliza\"].apply(lambda x: len(x))\n",
        "\n",
        "fig = plt.figure(figsize=(14,12))\n",
        "sns.set_style(\"darkgrid\")\n",
        "plt1 = sns.distplot(dataset[dataset[\"fake\"]==0][\"token_len\"], hist=True, label=\"real\")\n",
        "plt2 = sns.distplot(dataset[dataset[\"fake\"]==1][\"token_len\"], hist=True, label=\"fake\")\n",
        "plt.legend(labels=['real',\"\",'fake',\"\"], loc = 5)\n",
        "\n",
        "# Definimos el título de los ejes:\n",
        "plt.xlabel('Caracteres', fontsize=16)\n",
        "plt.ylabel('Densidad', fontsize=16)\n",
        "\n",
        "plt.show()"
      ],
      "execution_count": null,
      "outputs": [
        {
          "output_type": "stream",
          "name": "stderr",
          "text": [
            "/usr/local/lib/python3.9/dist-packages/seaborn/distributions.py:2619: FutureWarning: `distplot` is a deprecated function and will be removed in a future version. Please adapt your code to use either `displot` (a figure-level function with similar flexibility) or `histplot` (an axes-level function for histograms).\n",
            "  warnings.warn(msg, FutureWarning)\n",
            "/usr/local/lib/python3.9/dist-packages/seaborn/distributions.py:2619: FutureWarning: `distplot` is a deprecated function and will be removed in a future version. Please adapt your code to use either `displot` (a figure-level function with similar flexibility) or `histplot` (an axes-level function for histograms).\n",
            "  warnings.warn(msg, FutureWarning)\n"
          ]
        },
        {
          "output_type": "display_data",
          "data": {
            "text/plain": [
              "<Figure size 1008x864 with 1 Axes>"
            ],
            "image/png": "[encoded data removed]"
          },
          "metadata": {}
        }
      ]
    },
    {
      "cell_type": "markdown",
      "metadata": {
        "id": "sDzGOY35eC0z"
      },
      "source": [
        "## Vectorizacion"
      ]
    },
    {
      "cell_type": "markdown",
      "source": [
        "\n",
        "Queremos que la funcionalidad 'TfidfVectorizer' tenga en cuenta los siguientes aspectos:\n",
        "\n",
        "- Pocas características (30 en total) para evitar overfitting\n",
        "- Considerar unigramas, bigramas y trigramas\n",
        "- Que el sistema no considere los elementos que salgan en menos del 5% de los documentos."
      ],
      "metadata": {
        "id": "PZRULy1cM8GM"
      }
    },
    {
      "cell_type": "code",
      "metadata": {
        "id": "evb9m-RBLz1l"
      },
      "source": [
        "vectorizador = TfidfVectorizer(lowercase = False, stop_words =None,\n",
        "                               min_df=0.01, ngram_range = (1,3), max_features = 300)\n",
        "\n",
        "vector_data = vectorizador.fit_transform(dataset[\"clean_text\"])"
      ],
      "execution_count": null,
      "outputs": []
    },
    {
      "cell_type": "markdown",
      "metadata": {
        "id": "5GqIsdmbQAHs"
      },
      "source": [
        "# Entrenar/validar el clasificador:"
      ]
    },
    {
      "cell_type": "markdown",
      "source": [
        "Entramos ya en el apartado de entrenamiento del modelo. El primer paso es definir las variables predictoras, que son las características extraidas anteriormente a través de TF-IDF. \n",
        "\n",
        "También especificaremos cual es la variable con las clases de cada documento.\n"
      ],
      "metadata": {
        "id": "Ij8wQrs7NZZq"
      }
    },
    {
      "cell_type": "code",
      "source": [
        "# Importamos numpy:\n",
        "import numpy as np\n",
        "\n",
        "# Definimos la variable de categorías:\n",
        "y = dataset[\"fake\"].values.astype(np.float32) \n",
        "\n",
        "print(y.shape)"
      ],
      "metadata": {
        "colab": {
          "base_uri": "https://localhost:8080/"
        },
        "id": "K8B-jQYNNxor",
        "outputId": "fdaf0848-1481-4528-fd15-1d714dd43762"
      },
      "execution_count": null,
      "outputs": [
        {
          "output_type": "stream",
          "name": "stdout",
          "text": [
            "(59571,)\n"
          ]
        }
      ]
    },
    {
      "cell_type": "code",
      "source": [
        "vector_data"
      ],
      "metadata": {
        "colab": {
          "base_uri": "https://localhost:8080/"
        },
        "id": "KWDLkJVUN11e",
        "outputId": "02837761-e5c4-42d9-f2bd-1558366fbb67"
      },
      "execution_count": null,
      "outputs": [
        {
          "output_type": "execute_result",
          "data": {
            "text/plain": [
              "<59571x70 sparse matrix of type '<class 'numpy.float64'>'\n",
              "\twith 81225 stored elements in Compressed Sparse Row format>"
            ]
          },
          "metadata": {},
          "execution_count": 23
        }
      ]
    },
    {
      "cell_type": "markdown",
      "source": [
        "Tenemos 30 características para 52k documentos."
      ],
      "metadata": {
        "id": "xIRVrH44N9Qb"
      }
    },
    {
      "cell_type": "markdown",
      "metadata": {
        "id": "DN2KZldQe2DA"
      },
      "source": [
        "En primer lugar, dividamos el dataset en Train/Test:"
      ]
    },
    {
      "cell_type": "code",
      "metadata": {
        "colab": {
          "base_uri": "https://localhost:8080/"
        },
        "id": "0_SFqAufe2vd",
        "outputId": "210fadc1-fb60-40e9-b266-779695a4072b"
      },
      "source": [
        "X_train, X_test, y_train, y_test = train_test_split(vector_data, y , random_state=0)\n",
        "print(X_train.shape)\n",
        "print(X_test.shape)"
      ],
      "execution_count": null,
      "outputs": [
        {
          "output_type": "stream",
          "name": "stdout",
          "text": [
            "(44678, 70)\n",
            "(14893, 70)\n"
          ]
        }
      ]
    },
    {
      "cell_type": "markdown",
      "metadata": {
        "id": "692437DAeiyy"
      },
      "source": [
        "**Decision de modelo de ML a utilizar**\n",
        "\n",
        "En primer lugar se ha generado una función para medir la calidad de varios modelos estándar de forma fácil y ver sus resultados. \n",
        "\n",
        "La función hace un KFold y evalua diferentes modelos con una métrica de evblauación:"
      ]
    },
    {
      "cell_type": "code",
      "source": [
        "# Definimos las funcionalidades pertinentes de sklearn:\n",
        "from sklearn.model_selection import KFold\n",
        "from sklearn.model_selection import cross_val_score\n",
        "from sklearn.model_selection import GridSearchCV, RandomizedSearchCV\n",
        "import warnings \n",
        "# Definimos la función encargada de evaluar los modelos:\n",
        "def model_evaluation(models, score, X, y):\n",
        "      results = []\n",
        "      names = []\n",
        "      #PAra cada modelo\n",
        "      for name, model in models:\n",
        "          warnings.filterwarnings('ignore') \n",
        "          # Generamos un Kfold\n",
        "          KF = KFold(n_splits = 10, shuffle = True, random_state = 98)\n",
        "\n",
        "          # hacemos croos_val\n",
        "          cv_results = cross_val_score(model, X, y, cv = KF, scoring = score, verbose = False)\n",
        "          \n",
        "          # Guardamos los resultados:\n",
        "          results.append(cv_results)\n",
        "          names.append(name)\n",
        "          \n",
        "          # Mostramos los resultados numéricamente:\n",
        "          print('Metric: {} , KFold '.format(str(score)))\n",
        "          print(\"%s: %f (%f) \" % (name, cv_results.mean(), cv_results.std()))\n",
        "\n",
        "      return results, names"
      ],
      "metadata": {
        "id": "5m_42mDgO5s-"
      },
      "execution_count": null,
      "outputs": []
    },
    {
      "cell_type": "markdown",
      "source": [
        "Una vez definida la función, podemos definir los modelos con los que hacer la evaluación. En este caso hemos incorporado la regresión logística y una naive bayes. "
      ],
      "metadata": {
        "id": "R_KYX8MRSzhJ"
      }
    },
    {
      "cell_type": "code",
      "source": [
        "# Cargamos los modelos\n",
        "from sklearn.linear_model import LogisticRegression\n",
        "from sklearn.tree import DecisionTreeClassifier\n",
        "from sklearn.naive_bayes import GaussianNB\n",
        "\n",
        "# Definimos los modelos y generamos una lista con cada uno de ellos:\n",
        "models = [\n",
        "         (\"Logistic\",LogisticRegression(random_state=30)),\n",
        "         (\"GaussianNB\",GaussianNB())\n",
        "]\n",
        "\n",
        "evaluation_score = \"accuracy\"\n",
        "\n",
        "model_evaluation(models,  evaluation_score, vector_data.toarray(), y)   "
      ],
      "metadata": {
        "colab": {
          "base_uri": "https://localhost:8080/"
        },
        "id": "ujjjeM69OU05",
        "outputId": "8d25d4fa-2530-4be8-e3c3-e415113756f2"
      },
      "execution_count": null,
      "outputs": [
        {
          "output_type": "stream",
          "name": "stdout",
          "text": [
            "Metric: accuracy , KFold \n",
            "Logistic: 0.838898 (0.004482) \n",
            "Metric: accuracy , KFold \n",
            "GaussianNB: 0.834332 (0.004817) \n"
          ]
        },
        {
          "output_type": "execute_result",
          "data": {
            "text/plain": [
              "([array([0.8408862 , 0.83817358, 0.84069162, 0.83733423, 0.84707067,\n",
              "         0.83850932, 0.83632701, 0.84488837, 0.83313749, 0.8319624 ]),\n",
              "  array([0.83517959, 0.83347322, 0.83565553, 0.83112305, 0.8430418 ,\n",
              "         0.83632701, 0.83095518, 0.8413631 , 0.82843713, 0.82776565])],\n",
              " ['Logistic', 'GaussianNB'])"
            ]
          },
          "metadata": {},
          "execution_count": 26
        }
      ]
    },
    {
      "cell_type": "markdown",
      "source": [
        "Observamos un mejor funcionamiento con el regresor logístico, que será con el que intentaremos afinar los hiperparámetros:"
      ],
      "metadata": {
        "id": "N-tnBjOPRwWh"
      }
    },
    {
      "cell_type": "code",
      "metadata": {
        "id": "ueeLM4h-fJPx"
      },
      "source": [
        "from sklearn.model_selection import KFold\n",
        "from sklearn.model_selection import GridSearchCV\n",
        "# define models and parameters\n",
        "model = LogisticRegression()\n",
        "solvers = ['newton-cg', 'liblinear']\n",
        "penalty = ['l2']\n",
        "c_values = [100, 10, 1.0, 0.1, 0.01]\n"
      ],
      "execution_count": null,
      "outputs": []
    },
    {
      "cell_type": "markdown",
      "metadata": {
        "id": "p0-q-Gm9fLqC"
      },
      "source": [
        "Vamos a generar un diccionario para la búsqueda Grid y también generaremos el objeto GridSearchCV. Vamos a utilizar una métrica de búsqueda basada en accuracy (por probar)"
      ]
    },
    {
      "cell_type": "code",
      "metadata": {
        "id": "4Pa_QMDUfJvE"
      },
      "source": [
        "grid = dict(solver=solvers,penalty=penalty,C=c_values)\n",
        "cv = KFold(n_splits=10)\n",
        "grid_search = GridSearchCV(estimator=model, param_grid=grid, n_jobs=-1, cv=cv, scoring='accuracy',error_score=0)"
      ],
      "execution_count": null,
      "outputs": []
    },
    {
      "cell_type": "markdown",
      "metadata": {
        "id": "rt4WJenWfbMg"
      },
      "source": [
        "Entrenamos el modelo y hacemos un \"print\" del mejor resultado:"
      ]
    },
    {
      "cell_type": "code",
      "metadata": {
        "id": "tn6JFgqVfmZM",
        "colab": {
          "base_uri": "https://localhost:8080/"
        },
        "outputId": "3f11ca15-850e-4728-dbcd-498d8f32a9c5"
      },
      "source": [
        "grid_result = grid_search.fit(X_train, y_train)\n",
        "# summarize results\n",
        "print(\"Mejor accuracy: %f usando los parámetros %s\" % (grid_result.best_score_, grid_result.best_params_))\n"
      ],
      "execution_count": null,
      "outputs": [
        {
          "output_type": "stream",
          "name": "stdout",
          "text": [
            "Mejor accuracy: 0.837481 usando los parámetros {'C': 10, 'penalty': 'l2', 'solver': 'newton-cg'}\n"
          ]
        }
      ]
    },
    {
      "cell_type": "markdown",
      "metadata": {
        "id": "q3pxK0yAgaRD"
      },
      "source": [
        "Tenemos modelo! Los resultados mejores deben ser introducidos a un modelo específico para ser entrenado:"
      ]
    },
    {
      "cell_type": "code",
      "metadata": {
        "id": "t1OuszK2SfrU",
        "colab": {
          "base_uri": "https://localhost:8080/",
          "height": 74
        },
        "outputId": "e386e54d-0b70-49ee-8b4f-ea5763ca8245"
      },
      "source": [
        "from sklearn.model_selection import (KFold, cross_val_score,cross_validate)\n",
        "from sklearn.metrics import make_scorer, accuracy_score, precision_score, recall_score, f1_score\n",
        "\n",
        "model=LogisticRegression(C=100, penalty=\"l2\", solver = \"liblinear\")\n",
        "model.fit(X_train,y_train)\n"
      ],
      "execution_count": null,
      "outputs": [
        {
          "output_type": "execute_result",
          "data": {
            "text/plain": [
              "LogisticRegression(C=100, solver='liblinear')"
            ],
            "text/html": [
              "<style>#sk-container-id-1 {color: black;background-color: white;}#sk-container-id-1 pre{padding: 0;}#sk-container-id-1 div.sk-toggleable {background-color: white;}#sk-container-id-1 label.sk-toggleable__label {cursor: pointer;display: block;width: 100%;margin-bottom: 0;padding: 0.3em;box-sizing: border-box;text-align: center;}#sk-container-id-1 label.sk-toggleable__label-arrow:before {content: \"▸\";float: left;margin-right: 0.25em;color: #696969;}#sk-container-id-1 label.sk-toggleable__label-arrow:hover:before {color: black;}#sk-container-id-1 div.sk-estimator:hover label.sk-toggleable__label-arrow:before {color: black;}#sk-container-id-1 div.sk-toggleable__content {max-height: 0;max-width: 0;overflow: hidden;text-align: left;background-color: #f0f8ff;}#sk-container-id-1 div.sk-toggleable__content pre {margin: 0.2em;color: black;border-radius: 0.25em;background-color: #f0f8ff;}#sk-container-id-1 input.sk-toggleable__control:checked~div.sk-toggleable__content {max-height: 200px;max-width: 100%;overflow: auto;}#sk-container-id-1 input.sk-toggleable__control:checked~label.sk-toggleable__label-arrow:before {content: \"▾\";}#sk-container-id-1 div.sk-estimator input.sk-toggleable__control:checked~label.sk-toggleable__label {background-color: #d4ebff;}#sk-container-id-1 div.sk-label input.sk-toggleable__control:checked~label.sk-toggleable__label {background-color: #d4ebff;}#sk-container-id-1 input.sk-hidden--visually {border: 0;clip: rect(1px 1px 1px 1px);clip: rect(1px, 1px, 1px, 1px);height: 1px;margin: -1px;overflow: hidden;padding: 0;position: absolute;width: 1px;}#sk-container-id-1 div.sk-estimator {font-family: monospace;background-color: #f0f8ff;border: 1px dotted black;border-radius: 0.25em;box-sizing: border-box;margin-bottom: 0.5em;}#sk-container-id-1 div.sk-estimator:hover {background-color: #d4ebff;}#sk-container-id-1 div.sk-parallel-item::after {content: \"\";width: 100%;border-bottom: 1px solid gray;flex-grow: 1;}#sk-container-id-1 div.sk-label:hover label.sk-toggleable__label {background-color: #d4ebff;}#sk-container-id-1 div.sk-serial::before {content: \"\";position: absolute;border-left: 1px solid gray;box-sizing: border-box;top: 0;bottom: 0;left: 50%;z-index: 0;}#sk-container-id-1 div.sk-serial {display: flex;flex-direction: column;align-items: center;background-color: white;padding-right: 0.2em;padding-left: 0.2em;position: relative;}#sk-container-id-1 div.sk-item {position: relative;z-index: 1;}#sk-container-id-1 div.sk-parallel {display: flex;align-items: stretch;justify-content: center;background-color: white;position: relative;}#sk-container-id-1 div.sk-item::before, #sk-container-id-1 div.sk-parallel-item::before {content: \"\";position: absolute;border-left: 1px solid gray;box-sizing: border-box;top: 0;bottom: 0;left: 50%;z-index: -1;}#sk-container-id-1 div.sk-parallel-item {display: flex;flex-direction: column;z-index: 1;position: relative;background-color: white;}#sk-container-id-1 div.sk-parallel-item:first-child::after {align-self: flex-end;width: 50%;}#sk-container-id-1 div.sk-parallel-item:last-child::after {align-self: flex-start;width: 50%;}#sk-container-id-1 div.sk-parallel-item:only-child::after {width: 0;}#sk-container-id-1 div.sk-dashed-wrapped {border: 1px dashed gray;margin: 0 0.4em 0.5em 0.4em;box-sizing: border-box;padding-bottom: 0.4em;background-color: white;}#sk-container-id-1 div.sk-label label {font-family: monospace;font-weight: bold;display: inline-block;line-height: 1.2em;}#sk-container-id-1 div.sk-label-container {text-align: center;}#sk-container-id-1 div.sk-container {/* jupyter's `normalize.less` sets `[hidden] { display: none; }` but bootstrap.min.css set `[hidden] { display: none !important; }` so we also need the `!important` here to be able to override the default hidden behavior on the sphinx rendered scikit-learn.org. See: https://github.com/scikit-learn/scikit-learn/issues/21755 */display: inline-block !important;position: relative;}#sk-container-id-1 div.sk-text-repr-fallback {display: none;}</style><div id=\"sk-container-id-1\" class=\"sk-top-container\"><div class=\"sk-text-repr-fallback\"><pre>LogisticRegression(C=100, solver=&#x27;liblinear&#x27;)</pre><b>In a Jupyter environment, please rerun this cell to show the HTML representation or trust the notebook. <br />On GitHub, the HTML representation is unable to render, please try loading this page with nbviewer.org.</b></div><div class=\"sk-container\" hidden><div class=\"sk-item\"><div class=\"sk-estimator sk-toggleable\"><input class=\"sk-toggleable__control sk-hidden--visually\" id=\"sk-estimator-id-1\" type=\"checkbox\" checked><label for=\"sk-estimator-id-1\" class=\"sk-toggleable__label sk-toggleable__label-arrow\">LogisticRegression</label><div class=\"sk-toggleable__content\"><pre>LogisticRegression(C=100, solver=&#x27;liblinear&#x27;)</pre></div></div></div></div></div>"
            ]
          },
          "metadata": {},
          "execution_count": 30
        }
      ]
    },
    {
      "cell_type": "markdown",
      "metadata": {
        "id": "hf3UF16cgmJi"
      },
      "source": [
        "Predecimos con el set de test, y creamos una matriz de confusión y un \"classification report\"."
      ]
    },
    {
      "cell_type": "code",
      "metadata": {
        "id": "bYlyCyWogmeM",
        "colab": {
          "base_uri": "https://localhost:8080/"
        },
        "outputId": "1771db61-ea34-4dc0-9b20-f50b270bddde"
      },
      "source": [
        "y_pred = model.predict(X_test)\n",
        "\n",
        "from sklearn.metrics import classification_report,confusion_matrix\n",
        "print(confusion_matrix(y_test,y_pred))\n",
        "print(classification_report(y_test,y_pred))"
      ],
      "execution_count": null,
      "outputs": [
        {
          "output_type": "stream",
          "name": "stdout",
          "text": [
            "[[7134  314]\n",
            " [2036 5409]]\n",
            "              precision    recall  f1-score   support\n",
            "\n",
            "         0.0       0.78      0.96      0.86      7448\n",
            "         1.0       0.95      0.73      0.82      7445\n",
            "\n",
            "    accuracy                           0.84     14893\n",
            "   macro avg       0.86      0.84      0.84     14893\n",
            "weighted avg       0.86      0.84      0.84     14893\n",
            "\n"
          ]
        }
      ]
    },
    {
      "cell_type": "markdown",
      "metadata": {
        "id": "q4tUHSSSg41H"
      },
      "source": [
        "Además podemos pintar esa matriz de confusión para tener los resultados más \"bonitos\"."
      ]
    },
    {
      "cell_type": "code",
      "metadata": {
        "id": "0Wr9Jwo0UJbr",
        "colab": {
          "base_uri": "https://localhost:8080/",
          "height": 297
        },
        "outputId": "4a3aacfe-9a6f-4daa-e6ec-e32edc4e243b"
      },
      "source": [
        "from sklearn.metrics import ConfusionMatrixDisplay\n",
        "ConfusionMatrixDisplay.from_estimator(model, X_test, y_test, normalize = None)"
      ],
      "execution_count": null,
      "outputs": [
        {
          "output_type": "execute_result",
          "data": {
            "text/plain": [
              "<sklearn.metrics._plot.confusion_matrix.ConfusionMatrixDisplay at 0x7fd8d24fb070>"
            ]
          },
          "metadata": {},
          "execution_count": 36
        },
        {
          "output_type": "display_data",
          "data": {
            "text/plain": [
              "<Figure size 432x288 with 2 Axes>"
            ],
            "image/png": "[encoded data removed]"
          },
          "metadata": {}
        }
      ]
    },
    {
      "cell_type": "markdown",
      "metadata": {
        "id": "iKRA0rdmhDfk"
      },
      "source": [
        "Si quisieramos aplicar el modelo a nuevos datos, tendríamos que preprocesarlo del mismo modo que a los datos de entrenamiento y deberíamos transformarlo con el TFIDFVectorizar anteriormente entrenado. Despues de eso ya se podría incorporar sin problemas al `model.predict(Xnew)`"
      ]
    }
  ]
}